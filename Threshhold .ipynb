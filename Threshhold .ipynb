{
 "cells": [
  {
   "cell_type": "code",
   "execution_count": 2,
   "id": "097c4516",
   "metadata": {},
   "outputs": [],
   "source": [
    "from deepface.detectors.FaceDetector import detect_faces,build_model\n",
    "from cv2 import imread,imshow,waitKey,FONT_HERSHEY_SIMPLEX,rectangle,putText\n",
    "from deepface.DeepFace import represent\n",
    "from elasticsearch import Elasticsearch"
   ]
  },
  {
   "cell_type": "code",
   "execution_count": null,
   "id": "2468e513",
   "metadata": {},
   "outputs": [],
   "source": [
    "idendities = {\n",
    "    \"Mohamed Iheb\": [\"img1.jpg\", \"img2.jpg\", \"img4.jpg\", \"img5.jpg\", \"img6.jpg\", \"img7.jpg\", \"img10.jpg\", \"img11.jpg\"],\n",
    "    \"Imen\": [\"img8.jpg\", \"img9.jpg\"],\n",
    "    \"Khouloud\": [\"img3.jpg\", \"img12.jpg\"],\n",
    "    \"Mayssa Haddar\": [\"img13.jpg\", \"img14.jpg\", \"img15.jpg\"],\n",
    "    \"Hamdi\": [\"img16.jpg\", \"img17.jpg\"],\n",
    "    \"Elon\": [\"img18.jpg\", \"img19.jpg\"],\n",
    "    \"Jeff\": [\"img20.jpg\", \"img21.jpg\"],\n",
    "    \"Marissa\": [\"img22.jpg\", \"img23.jpg\"],\n",
    "    \"Sundar\": [\"img24.jpg\", \"img25.jpg\"]\n",
    "}"
   ]
  },
  {
   "cell_type": "code",
   "execution_count": null,
   "id": "0a9d3413",
   "metadata": {},
   "outputs": [],
   "source": []
  }
 ],
 "metadata": {
  "kernelspec": {
   "display_name": "Python 3 (ipykernel)",
   "language": "python",
   "name": "python3"
  },
  "language_info": {
   "codemirror_mode": {
    "name": "ipython",
    "version": 3
   },
   "file_extension": ".py",
   "mimetype": "text/x-python",
   "name": "python",
   "nbconvert_exporter": "python",
   "pygments_lexer": "ipython3",
   "version": "3.9.7"
  }
 },
 "nbformat": 4,
 "nbformat_minor": 5
}
